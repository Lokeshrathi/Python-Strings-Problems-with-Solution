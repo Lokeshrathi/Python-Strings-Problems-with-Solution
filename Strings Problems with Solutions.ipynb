{
 "cells": [
  {
   "cell_type": "code",
   "execution_count": 116,
   "metadata": {},
   "outputs": [
    {
     "name": "stdout",
     "output_type": "stream",
     "text": [
      "Not Unique chars\n"
     ]
    }
   ],
   "source": [
    "## Implement an algorith to determine if a string has all unique characters:\n",
    "def name(strin):\n",
    "    check = []\n",
    "    c = []\n",
    "    for x in strin:\n",
    "        c.append(x)\n",
    "        check = set(c)\n",
    "    if len(c)==len(check):\n",
    "        print('All Unique chars')\n",
    "    else:\n",
    "        print('Not Unique chars')\n",
    "name('Musskan')"
   ]
  },
  {
   "cell_type": "code",
   "execution_count": 118,
   "metadata": {},
   "outputs": [
    {
     "name": "stdout",
     "output_type": "stream",
     "text": [
      "palindrome\n"
     ]
    }
   ],
   "source": [
    "## Given 2 strings, write a method to decide if one is a permutation of the other\n",
    "def palin(str1,str2):\n",
    "    str1 = str1[::-1]\n",
    "    str2 = str2[::-1]\n",
    "    if str1 == str2:\n",
    "        print('palindrome')\n",
    "    else:\n",
    "        print('none')\n",
    "palin('Tenet','Tenet')"
   ]
  },
  {
   "cell_type": "code",
   "execution_count": 119,
   "metadata": {},
   "outputs": [
    {
     "name": "stdout",
     "output_type": "stream",
     "text": [
      "Hell Yeah, they are!\n"
     ]
    }
   ],
   "source": [
    "## check if two strings are permutation\n",
    "str1 = 'tenet'\n",
    "str2 = 'neett'\n",
    "c1 = []\n",
    "c2 = []\n",
    "for x1 in str1:\n",
    "    c1.append(x1)\n",
    "    set1 = sorted(c1)\n",
    "for x2 in str2:\n",
    "    c2.append(x2)\n",
    "    set2 =sorted(c2)\n",
    "if set1==set2:\n",
    "    print('Hell Yeah, they are!')\n",
    "else:\n",
    "    print('Nah, they are not')"
   ]
  },
  {
   "cell_type": "code",
   "execution_count": 106,
   "metadata": {
    "scrolled": true
   },
   "outputs": [
    {
     "data": {
      "text/plain": [
       "'Mr%20John%20Smith'"
      ]
     },
     "execution_count": 106,
     "metadata": {},
     "output_type": "execute_result"
    }
   ],
   "source": [
    "## Replace spaces with %20 except \n",
    "c1 = []\n",
    "new_str = \"Mr John Smith  \"\n",
    "new_str = new_str.rstrip()\n",
    "for x in new_str:\n",
    "    c1.append(x)\n",
    "\n",
    "c1 = [\"%20\" if x1 == ' ' else x1 for x1 in c1]\n",
    "final = \"\".join(c1)\n",
    "final"
   ]
  },
  {
   "cell_type": "code",
   "execution_count": 121,
   "metadata": {},
   "outputs": [],
   "source": [
    "## String Compression:\n",
    "# Implement a algorithm to perform String Compression using the count of the repeated word\n",
    "# eg: \"aaaabbbcc\" output: ab3c2"
   ]
  },
  {
   "cell_type": "code",
   "execution_count": 126,
   "metadata": {},
   "outputs": [
    {
     "name": "stdout",
     "output_type": "stream",
     "text": [
      "[('a', 5), ('c', 3), ('b', 2)]\n"
     ]
    }
   ],
   "source": [
    "str4 = \"aaaaabbccc\"\n",
    "c1, final_, c2= ([] for i in range(3))\n",
    "for x in str4:\n",
    "    c1.append(x)\n",
    "    set_val = set(c1)\n",
    "for x1 in set_val:\n",
    "    final = c1.count(x1)\n",
    "    c2.append(x1)\n",
    "    final_.append(final)\n",
    "output = list(zip(c2,final_))\n",
    "print(output)"
   ]
  },
  {
   "cell_type": "code",
   "execution_count": null,
   "metadata": {},
   "outputs": [],
   "source": []
  }
 ],
 "metadata": {
  "kernelspec": {
   "display_name": "Python 3",
   "language": "python",
   "name": "python3"
  },
  "language_info": {
   "codemirror_mode": {
    "name": "ipython",
    "version": 3
   },
   "file_extension": ".py",
   "mimetype": "text/x-python",
   "name": "python",
   "nbconvert_exporter": "python",
   "pygments_lexer": "ipython3",
   "version": "3.8.5"
  }
 },
 "nbformat": 4,
 "nbformat_minor": 4
}
